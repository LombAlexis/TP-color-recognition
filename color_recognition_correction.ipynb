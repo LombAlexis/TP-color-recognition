{
 "cells": [
  {
   "cell_type": "markdown",
   "metadata": {
    "id": "5gpuHdYZgS6b"
   },
   "source": [
    "# TP - Énoncé - Reconnaissance de couleurs 🏳‍🌈\n",
    "\n",
    "## 0 - Objectifs\n",
    "\n",
    "L'objectif de ce TP est de réaliser une application Python de reconnaissance de couleurs. On cherche à pouvoir déterminer la classe de couleur (au format texte) à laquelle appartient une couleur RGB.\n",
    "\n",
    "Quelques exemples de fonctionnement de l'application :\n",
    "\n",
    "| R (in) | G (in) | B (in) | Couleur la plus proche (out) |\n",
    "|--------|--------|--------|------------------------------|\n",
    "| 240    | 5      | 2      | 🟥 Rouge                     |\n",
    "| 255    | 5      | 250    | 🟪 Fuschia                   |\n",
    "| 0      | 120    | 0      | 🟩 Vert                      |\n"
   ]
  },
  {
   "cell_type": "markdown",
   "metadata": {
    "collapsed": false
   },
   "source": [
    "## 1 - Prérequis\n",
    "\n",
    "Vous devez réaliser ce TP en Python, nous vous recommandons d'utiliser **[Python 3](https://www.python.org/downloads/)** pour éviter des problèmes de compatibilité avec les librairies requises.\n",
    "\n",
    "Pensez à installer, avant la séance, les librairies **[pandas](https://gifts.worldwildlife.org/gift-center/gifts/Species-Adoptions/Panda.aspx?sc=AWY2005OQ18318A03785RX&_ga=2.160781181.1170045420.1668093542-311135590.1668093541)** et **[tensorflow](https://www.tensorflow.org/tutorials/quickstart/beginner)** (data generation), ainsi que **[sklearn](https://scikit-learn.org/stable/getting_started.html)** (data management).\n",
    "\n",
    "\n",
    "```bash\n",
    "$ pip install pandas\n",
    "$ pip install tensorflow\n",
    "$ pip install sklearn\n",
    "```\n"
   ]
  },
  {
   "cell_type": "markdown",
   "metadata": {
    "collapsed": false
   },
   "source": [
    "\n",
    "## 2 - Génération du dataset\n",
    "\n",
    "*Votre environnement de dev est prêt ? Alors c'est parti, on peut commencer à mettre les mains dans le cambouis !*\n",
    "\n",
    "Avant de pouvoir entraîner le modèle de notre application, on a besoin de données à lui fournir.\n",
    "\n",
    ">       \n",
    "> 💡 **Remarque** : il ne vous aura pas échappé que le problème abordé dans ce TP est très simpliste... Dans les faits, cette simplicité permet de :\n",
    ">  - générer des datasets complets (variables explicatives / à expliquer) à l'aide d'un algorithme \"classique\"\n",
    ">  - pouvoir adapter la taille du dataset pour observer les changements de comportements de notre modèle\n",
    ">      \n",
    "\n",
    "Le code ci-dessous permet de générer un dataset à la taille voulue, **ne pas le modifier** :"
   ]
  },
  {
   "cell_type": "code",
   "execution_count": 1,
   "metadata": {
    "id": "nLSgdkIKwWLj",
    "vscode": {
     "languageId": "python"
    }
   },
   "outputs": [],
   "source": [
    "import math\n",
    "import random\n",
    "\n",
    "import pandas as pd\n",
    "\n",
    "# constantes\n",
    "\n",
    "COLORS = {\n",
    "    \"black\": (0, 0, 0),\n",
    "    \"silver\": (192, 192, 192),\n",
    "    \"gray\": (128, 128, 128),\n",
    "    \"white\": (255, 255, 255),\n",
    "    \"maroon\": (128, 0, 0),\n",
    "    \"red\": (255, 0, 0),\n",
    "    \"purple\": (128, 0, 128),\n",
    "    \"fuchsia\": (255, 0, 255),\n",
    "    \"green\": (0, 128, 0),\n",
    "    \"lime\": (0, 255, 0),\n",
    "    \"olive\": (128, 128, 0),\n",
    "    \"yellow\": (255, 255, 0),\n",
    "    \"navy\": (0, 0, 128),\n",
    "    \"blue\": (0, 0, 255),\n",
    "    \"teal\": (0, 128, 128),\n",
    "    \"aqua\": (0, 255, 255)\n",
    "}\n",
    "\n",
    "Y_LABEL = \"Value\"\n",
    "\n",
    "\n",
    "def random_rgb():\n",
    "    \"\"\"\n",
    "    Génère un tuple RGB.\n",
    "    \"\"\"\n",
    "    return (\n",
    "        random.randint(0, 255),\n",
    "        random.randint(0, 255),\n",
    "        random.randint(0, 255)\n",
    "    )\n",
    "\n",
    "\n",
    "def to_decimal(rgb):\n",
    "    \"\"\"\n",
    "    Convertie un tuple rgb qui a pour valeur 0 à 255 vers des valeurs entre -0.5 et 0.5.\n",
    "    \"\"\"\n",
    "    r, g, b = rgb\n",
    "    return (\n",
    "        r / 255 - 0.5,\n",
    "        g / 255 - 0.5,\n",
    "        b / 255 - 0.5\n",
    "    )\n",
    "\n",
    "def to_hex(rgb):\n",
    "    \"\"\"\n",
    "    Convertie un tuple rgb qui a pour valeur -0.5 à 0.5 vers des valeurs entre 0 et 255.\n",
    "    \"\"\"\n",
    "    r, g, b = rgb\n",
    "    return (\n",
    "        int((r + 0.5) * 255),\n",
    "        int((g + 0.5) * 255),\n",
    "        int((b + 0.5) * 255)\n",
    "    )\n",
    "\n",
    "\n",
    "def closest_color(rgb):\n",
    "    \"\"\"\n",
    "    Détermine à partir d'une couleur en RGB son nom associé.\n",
    "    (ici on réalise exactement l'opération que le réseau de neurone sera amené à effectuer plus\n",
    "    tard).\n",
    "    \"\"\"\n",
    "    r, g, b = rgb\n",
    "    color_diffs = []\n",
    "    for color_name in COLORS:\n",
    "        cr, cg, cb = COLORS[color_name]\n",
    "        color_diff = math.sqrt((r - cr) ** 2 + (g - cg) ** 2 + (b - cb) ** 2)\n",
    "        color_diffs.append((color_diff, COLORS[color_name], color_name))\n",
    "    return min(color_diffs)[2]\n",
    "\n",
    "\n",
    "def create_dataset(n):\n",
    "    \"\"\"\n",
    "    Génère un dataset qui contient 4 colonnes: R, G, B, ColorName\n",
    "    \"\"\"\n",
    "    dataset_array = []\n",
    "    for _ in range(n):\n",
    "        rgb_color = random_rgb()\n",
    "        r, g, b = rgb_color\n",
    "        rc, gc, bc = to_decimal(rgb_color)\n",
    "        dataset_array.append([rc, gc, bc, closest_color((r, g, b))])\n",
    "    return pd.DataFrame(data=dataset_array, columns=[\"R\", \"G\", \"B\", Y_LABEL])"
   ]
  },
  {
   "cell_type": "markdown",
   "metadata": {
    "collapsed": false
   },
   "source": [
    "Modifiez l'appel à la cellule suivante pour gérer la taille de vos données."
   ]
  },
  {
   "cell_type": "code",
   "execution_count": 2,
   "metadata": {
    "collapsed": false,
    "vscode": {
     "languageId": "python"
    }
   },
   "outputs": [
    {
     "data": {
      "text/html": [
       "<div>\n",
       "<style scoped>\n",
       "    .dataframe tbody tr th:only-of-type {\n",
       "        vertical-align: middle;\n",
       "    }\n",
       "\n",
       "    .dataframe tbody tr th {\n",
       "        vertical-align: top;\n",
       "    }\n",
       "\n",
       "    .dataframe thead th {\n",
       "        text-align: right;\n",
       "    }\n",
       "</style>\n",
       "<table border=\"1\" class=\"dataframe\">\n",
       "  <thead>\n",
       "    <tr style=\"text-align: right;\">\n",
       "      <th></th>\n",
       "      <th>R</th>\n",
       "      <th>G</th>\n",
       "      <th>B</th>\n",
       "      <th>Value</th>\n",
       "    </tr>\n",
       "  </thead>\n",
       "  <tbody>\n",
       "    <tr>\n",
       "      <th>0</th>\n",
       "      <td>0.249020</td>\n",
       "      <td>0.052941</td>\n",
       "      <td>0.241176</td>\n",
       "      <td>silver</td>\n",
       "    </tr>\n",
       "    <tr>\n",
       "      <th>1</th>\n",
       "      <td>0.374510</td>\n",
       "      <td>0.170588</td>\n",
       "      <td>-0.147059</td>\n",
       "      <td>silver</td>\n",
       "    </tr>\n",
       "    <tr>\n",
       "      <th>2</th>\n",
       "      <td>0.319608</td>\n",
       "      <td>-0.158824</td>\n",
       "      <td>-0.358824</td>\n",
       "      <td>olive</td>\n",
       "    </tr>\n",
       "    <tr>\n",
       "      <th>3</th>\n",
       "      <td>0.033333</td>\n",
       "      <td>-0.013725</td>\n",
       "      <td>-0.425490</td>\n",
       "      <td>olive</td>\n",
       "    </tr>\n",
       "    <tr>\n",
       "      <th>4</th>\n",
       "      <td>0.056863</td>\n",
       "      <td>0.029412</td>\n",
       "      <td>-0.017647</td>\n",
       "      <td>gray</td>\n",
       "    </tr>\n",
       "  </tbody>\n",
       "</table>\n",
       "</div>"
      ],
      "text/plain": [
       "          R         G         B   Value\n",
       "0  0.249020  0.052941  0.241176  silver\n",
       "1  0.374510  0.170588 -0.147059  silver\n",
       "2  0.319608 -0.158824 -0.358824   olive\n",
       "3  0.033333 -0.013725 -0.425490   olive\n",
       "4  0.056863  0.029412 -0.017647    gray"
      ]
     },
     "execution_count": 2,
     "metadata": {},
     "output_type": "execute_result"
    }
   ],
   "source": [
    "ds = create_dataset(100_000)\n",
    "ds.head(5)"
   ]
  },
  {
   "cell_type": "markdown",
   "metadata": {
    "id": "mYk_7Re31b73"
   },
   "source": [
    "## 3 - Préparation des données\n",
    "\n",
    "Maintenant que vos données sont prêtes, vous allez les préparer pour faciliter leur traitement.\n",
    "\n",
    " - a) Ramenez les valeurs du dataset entre 0 et 1.\n",
    " - b) Séparez les variables explicatives \"X\" et à expliquer \"Y\".\n",
    " - c) Séparez le dataset en lots d'entrainement (**train**) et de test (**test**) pour vous retrouver avec les variables :\n",
    "   - **X_train**\n",
    "   - **y_train**\n",
    "   - **X_test**\n",
    "   - **y_test**\n",
    "\n",
    "> 💡 Remarque : pensez à utiliser la librairie **[sklearn](https://scikit-learn.org/stable/getting_started.html)** pour la séparation des données"
   ]
  },
  {
   "cell_type": "code",
   "execution_count": 3,
   "metadata": {
    "collapsed": false,
    "vscode": {
     "languageId": "python"
    }
   },
   "outputs": [],
   "source": [
    "from sklearn.model_selection import train_test_split\n",
    "from sklearn import preprocessing\n",
    "\n",
    "# obtention des x\n",
    "X = ds.loc[:, ds.columns != Y_LABEL]\n",
    "\n",
    "# obtention d'y\n",
    "le = preprocessing.LabelEncoder()\n",
    "y = le.fit_transform(ds[Y_LABEL])  # transforme les classes en valeurs numériques (\"aqua\" --> 0)\n",
    "y = pd.DataFrame(y, columns=[Y_LABEL])  # reconversion d'y en DataFrame Pandas\n",
    "\n",
    "# Séparation des données d'entrainement et des données de test\n",
    "X_train, X_test, y_train, y_test = train_test_split(X, y, test_size=0.2)"
   ]
  },
  {
   "cell_type": "markdown",
   "metadata": {
    "id": "m6jqE3VirZvw"
   },
   "source": [
    "## 4 - Création du modèle\n",
    "\n",
    "### **TensorFlow** (pour les curieux 🔎)\n",
    "TensorFlow est une bibliothèque open source de Machine Learning, créée par Google, permettant de développer et d’exécuter des applications de Machine Learning et de Deep Learning.\n",
    "\n",
    "### **Keras** (pour les curieux 🔎)\n",
    "\n",
    "Keras est une API de réseau de neurones écrite en langage Python. Il s’agit d’une bibliothèque Open Source, qui est exécutée au-dessus du framework TensorFlow.\n",
    "\n",
    "Aujourd’hui, Keras est l’une des APIs de réseaux de neurones les plus utilisées pour le développement et le testing de réseaux de neurones. Elle permet de créer très facilement des \"layers\" pour les réseaux de neurones ou de mettre en place des architectures complexes.\n",
    "\n",
    "### **Du code, du code, on veut coder !!** 🤪\n",
    "\n",
    "... débrouille toi."
   ]
  },
  {
   "cell_type": "code",
   "execution_count": null,
   "metadata": {
    "id": "E3jvOIyErUJy",
    "vscode": {
     "languageId": "python"
    }
   },
   "outputs": [
    {
     "ename": "",
     "evalue": "",
     "output_type": "error",
     "traceback": [
      "\u001b[1;31mThe kernel died. View Jupyter <a href='command:jupyter.viewOutput'>log</a> for further details. \n",
      "Error: /usr/bin/python: No module named ipykernel_launcher..."
     ]
    }
   ],
   "source": [
    "import tensorflow as tf\n",
    "\n",
    "INPUT_SIZE = 3\n",
    "OUTPUT_SIZE = len(COLORS)\n",
    "HIDDEN_LAYER_NUMBER = 2\n",
    "HIDDEN_LAYER_NODE_NUMBER = abs(OUTPUT_SIZE - INPUT_SIZE) // 2\n",
    "\n",
    "model = tf.keras.Sequential()\n",
    "\n",
    "# TODO find adequate model\n",
    "\n",
    "# input layer\n",
    "model.add(tf.keras.layers.Input(shape=(INPUT_SIZE,)))\n",
    "# hidden layers\n",
    "for _ in range(HIDDEN_LAYER_NUMBER):\n",
    "    model.add(tf.keras.layers.Dense(\n",
    "        HIDDEN_LAYER_NODE_NUMBER,\n",
    "        activation=\"relu\",\n",
    "    ))\n",
    "# output layer\n",
    "model.add(tf.keras.layers.Dense(OUTPUT_SIZE, activation=\"softmax\"))\n",
    "\n",
    "# model compilation\n",
    "model.compile(optimizer='adam', loss='sparse_categorical_crossentropy', metrics=['accuracy'])"
   ]
  },
  {
   "cell_type": "markdown",
   "metadata": {
    "id": "UqJaMEoJ4A5H"
   },
   "source": [
    "## 5 - Entraînement du modèle\n",
    "\n",
    "d) Servez-vous de la fonction [fit()](https://www.tensorflow.org/api_docs/python/tf/keras/Model#fit) pour entraîner le modèle avec vos données.\n",
    "\n",
    "> Tips : les paramètres `epochs` et `batch_size` doivent être bien choisis, prennez le temps de bien comprendre leur utilitée à travers la documentation de fit().\n",
    "\n"
   ]
  },
  {
   "cell_type": "code",
   "execution_count": 5,
   "metadata": {
    "id": "NT0uKDMz4mHt",
    "vscode": {
     "languageId": "python"
    }
   },
   "outputs": [
    {
     "name": "stdout",
     "output_type": "stream",
     "text": [
      "Epoch 1/5\n",
      "8000/8000 [==============================] - 6s 694us/step - loss: 0.7096 - accuracy: 0.7983\n",
      "Epoch 2/5\n",
      "8000/8000 [==============================] - 5s 684us/step - loss: 0.2190 - accuracy: 0.9415\n",
      "Epoch 3/5\n",
      "8000/8000 [==============================] - 5s 677us/step - loss: 0.1597 - accuracy: 0.9592\n",
      "Epoch 4/5\n",
      "8000/8000 [==============================] - 5s 670us/step - loss: 0.1302 - accuracy: 0.9669\n",
      "Epoch 5/5\n",
      "8000/8000 [==============================] - 5s 660us/step - loss: 0.1130 - accuracy: 0.9711\n"
     ]
    },
    {
     "data": {
      "text/plain": [
       "<keras.callbacks.History at 0x7fbafa9a2c20>"
      ]
     },
     "execution_count": 5,
     "metadata": {},
     "output_type": "execute_result"
    }
   ],
   "source": [
    "model.fit(\"\"\"TODO\"\"\")"
   ]
  },
  {
   "cell_type": "markdown",
   "metadata": {
    "id": "8qsg2OMs4FFT"
   },
   "source": [
    "## 6 - Évaluation"
   ]
  },
  {
   "cell_type": "code",
   "execution_count": 6,
   "metadata": {
    "id": "TSibR8OU4tDE",
    "vscode": {
     "languageId": "python"
    }
   },
   "outputs": [
    {
     "name": "stdout",
     "output_type": "stream",
     "text": [
      "625/625 [==============================] - 0s 602us/step - loss: 0.1136 - accuracy: 0.9628\n",
      "accuracy: 0.96\n",
      "loss: 0.11\n"
     ]
    }
   ],
   "source": [
    "loss, accuracy = model.evaluate(X_test, y_test)\n",
    "print(f\"accuracy: {accuracy:.2f}\\nloss: {loss:.2f}\")"
   ]
  },
  {
   "cell_type": "markdown",
   "metadata": {
    "id": "0x0wx5pv0ylf"
   },
   "source": [
    "## 7 - Prédictions"
   ]
  },
  {
   "cell_type": "code",
   "execution_count": 35,
   "metadata": {
    "id": "x24-GWNR019E",
    "vscode": {
     "languageId": "python"
    }
   },
   "outputs": [
    {
     "name": "stdout",
     "output_type": "stream",
     "text": [
      "[input]:\n",
      "(37, 86, 167) --- should be --> teal\n",
      "\n",
      "[output]\n",
      "teal\n",
      "\n"
     ]
    }
   ],
   "source": [
    "from numpy import argmax\n",
    "\n",
    "\n",
    "# entrée\n",
    "row = ds.sample()\n",
    "rgb_ = to_hex((row.R, row.G, row.B))\n",
    "print(f\"[input]:\\n{rgb_} --- should be --> {row.Value.values[0]}\\n\")\n",
    "random_input = row.iloc[:, ds.columns != Y_LABEL]\n",
    "\n",
    "# prédiction\n",
    "output_vec = model.predict(random_input, verbose=\"silent\")\n",
    "\n",
    "# sortie\n",
    "color_index = argmax(output_vec)\n",
    "color = le.classes_[color_index]\n",
    "print(f\"[output]\\n{color}\\n\")"
   ]
  }
 ],
 "metadata": {
  "colab": {
   "collapsed_sections": [],
   "provenance": [],
   "toc_visible": true
  },
  "kernelspec": {
   "display_name": "Python 3 (ipykernel)",
   "language": "python",
   "name": "python3"
  }
 },
 "nbformat": 4,
 "nbformat_minor": 0
}
