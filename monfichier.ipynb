{
 "cells": [
  {
   "cell_type": "code",
   "execution_count": 5,
   "metadata": {},
   "outputs": [
    {
     "data": {
      "text/plain": [
       "array([[  -76.23531356],\n",
       "       [-1710.50323159],\n",
       "       [-2513.78037195],\n",
       "       ...,\n",
       "       [-3597.35465471],\n",
       "       [-2594.27309986],\n",
       "       [ -113.99824546]])"
      ]
     },
     "execution_count": 5,
     "metadata": {},
     "output_type": "execute_result"
    }
   ],
   "source": [
    "from sqlite3 import Row\n",
    "from matplotlib.pyplot import axis\n",
    "import pandas\n",
    "from sklearn import preprocessing\n",
    "import sklearn\n",
    "from sklearn.model_selection import train_test_split\n",
    "from sklearn.preprocessing import LabelEncoder\n",
    "import numpy as np\n",
    "from sklearn.linear_model import LinearRegression\n",
    "\n",
    "\n",
    "pandas.__version__\n",
    "###### exploration des données\n",
    "#pandas.read_csv(\"housing.csv\")\n",
    "pd = pandas.read_csv(\"housing.csv\",header=0)\n",
    "#pd.value_counts(\"longitude\")\n",
    "#pd.describe()\n",
    "pd.count()\n",
    "#pd.mean(0)\n",
    "###### separation des données\n",
    "X_train, X_test = train_test_split(pd,test_size=0.5)\n",
    "#X_test.plot(x=8)\n",
    "#X_test.corr()\n",
    "X_test = X_test.dropna()\n",
    "X = X_test.copy()\n",
    "Y = X_test.copy()\n",
    "Y = Y.drop(Y.columns[[0,1,2,3,4,5,6,7,9]],axis=1)\n",
    "X = X.drop(X.columns[[8]],axis=1)\n",
    "\n",
    "###### change les données non numerique en numerique\n",
    "le = preprocessing.LabelEncoder()\n",
    "le.fit([\"NEAR OCEAN\",\"<1H OCEAN\",\"INLAND\",\"NEAR BAY\",\"ISLAND\",\"ocean_proximity\"])\n",
    "le.transform(X.get(\"ocean_proximity\"))\n",
    "X['ocean_proximity'] = le.transform(X.get(\"ocean_proximity\"))\n",
    "normalized_X=(X-X.min())/(X.max()-X.min())\n",
    "normalized_Y=(Y-Y.min())/(Y.max()-Y.min())\n",
    "#normalized_X\n",
    "###### Regression lineaire\n",
    "reg = LinearRegression().fit(normalized_X, normalized_Y)\n",
    "tempX = X_train.copy()\n",
    "tempX = tempX.dropna()\n",
    "tempX = tempX.drop(tempX.columns[[8]],axis=1)\n",
    "tempX['ocean_proximity'] = le.transform(tempX.get(\"ocean_proximity\"))\n",
    "reg.predict(tempX)\n",
    "#le resultats sont de plus en plus eloignes plus on va vers le centre de l'array \n",
    "#la regression lineaire n'est donc pas significatif \n",
    "\n",
    "\n",
    "# le plus proche de median_house_value c'est median income\n"
   ]
  }
 ],
 "metadata": {
  "kernelspec": {
   "display_name": "Python 3.10.4 64-bit",
   "language": "python",
   "name": "python3"
  },
  "language_info": {
   "codemirror_mode": {
    "name": "ipython",
    "version": 3
   },
   "file_extension": ".py",
   "mimetype": "text/x-python",
   "name": "python",
   "nbconvert_exporter": "python",
   "pygments_lexer": "ipython3",
   "version": "3.10.4"
  },
  "orig_nbformat": 4,
  "vscode": {
   "interpreter": {
    "hash": "31671a60cee805c34c73116577b485118ff3a75c458d3004d49632c19702ac60"
   }
  }
 },
 "nbformat": 4,
 "nbformat_minor": 2
}
