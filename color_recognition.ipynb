{
 "cells": [
  {
   "cell_type": "markdown",
   "metadata": {
    "id": "5gpuHdYZgS6b"
   },
   "source": [
    "# TP - Énoncé - Reconnaissance de couleurs 🏳‍🌈\n",
    "\n",
    "## 0 - Objectifs\n",
    "\n",
    "L'objectif de ce TP est de réaliser une application Python de reconnaissance de couleurs. On cherche à pouvoir déterminer la classe de couleur (au format texte) à laquelle appartient une couleur RGB.\n",
    "\n",
    "Quelques exemples de fonctionnement de l'application :\n",
    "\n",
    "| R (in) | G (in) | B (in) | Couleur la plus proche (out) |\n",
    "|--------|--------|--------|------------------------------|\n",
    "| 240    | 5      | 2      | 🟥 Rouge                     |\n",
    "| 255    | 5      | 250    | 🟪 Fuschia                   |\n",
    "| 0      | 120    | 0      | 🟩 Vert                      |\n"
   ]
  },
  {
   "cell_type": "markdown",
   "metadata": {
    "collapsed": false
   },
   "source": [
    "---\n",
    "## 1 - Prérequis\n",
    "\n",
    "Vous devez réaliser ce TP en Python, nous vous recommandons d'utiliser **[Python 3](https://www.python.org/downloads/)** pour éviter des problèmes de compatibilité avec les librairies requises.\n",
    "\n",
    "Pensez à installer, avant la séance, les librairies **[pandas](https://gifts.worldwildlife.org/gift-center/gifts/Species-Adoptions/Panda.aspx?sc=AWY2005OQ18318A03785RX&_ga=2.160781181.1170045420.1668093542-311135590.1668093541)** et **[tensorflow](https://www.tensorflow.org/tutorials/quickstart/beginner)** (data generation), ainsi que **[sklearn](https://scikit-learn.org/stable/getting_started.html)** (data management).\n",
    "\n",
    "\n",
    "```bash\n",
    "$ pip install pandas\n",
    "$ pip install tensorflow\n",
    "$ pip install sklearn\n",
    "```\n"
   ]
  },
  {
   "cell_type": "markdown",
   "metadata": {
    "collapsed": false
   },
   "source": [
    "\n",
    "---\n",
    "## 2 - Génération du dataset\n",
    "\n",
    "*Votre environnement de dev est prêt ? Alors c'est parti, on peut commencer à mettre les mains dans le cambouis ! 👴*\n",
    "\n",
    "Avant de pouvoir entraîner le modèle de notre application, nous avons besoin de lui fournir des données.\n",
    "\n",
    ">       \n",
    "> 💡 **Remarque** : il ne vous aura pas échappé que le problème abordé dans ce TP est très simpliste... \n",
    "> \n",
    "> Dans les faits, cette simplicité permet de :\n",
    ">  - générer des datasets complets (variables explicatives/à expliquer) à l'aide d'un algorithme \"classique\"\n",
    ">  - pouvoir adapter la taille du dataset pour observer les changements de comportements de notre modèle\n",
    ">      \n",
    "\n",
    "Le code ci-dessous permet de générer un dataset à la taille voulue, **voooooouuuus ne le modifierez pas 🧙‍♂** :"
   ]
  },
  {
   "cell_type": "code",
   "execution_count": 1,
   "metadata": {
    "id": "nLSgdkIKwWLj",
    "vscode": {
     "languageId": "python"
    }
   },
   "outputs": [],
   "source": [
    "import math\n",
    "import random\n",
    "\n",
    "import pandas as pd\n",
    "\n",
    "# constantes\n",
    "\n",
    "COLORS = {\n",
    "    \"black\": (0, 0, 0),\n",
    "    \"silver\": (192, 192, 192),\n",
    "    \"gray\": (128, 128, 128),\n",
    "    \"white\": (255, 255, 255),\n",
    "    \"maroon\": (128, 0, 0),\n",
    "    \"red\": (255, 0, 0),\n",
    "    \"purple\": (128, 0, 128),\n",
    "    \"fuchsia\": (255, 0, 255),\n",
    "    \"green\": (0, 128, 0),\n",
    "    \"lime\": (0, 255, 0),\n",
    "    \"olive\": (128, 128, 0),\n",
    "    \"yellow\": (255, 255, 0),\n",
    "    \"navy\": (0, 0, 128),\n",
    "    \"blue\": (0, 0, 255),\n",
    "    \"teal\": (0, 128, 128),\n",
    "    \"aqua\": (0, 255, 255)\n",
    "}\n",
    "\n",
    "Y_LABEL = \"Value\"\n",
    "\n",
    "\n",
    "def random_rgb():\n",
    "    \"\"\"\n",
    "    Génère un tuple RGB.\n",
    "    \"\"\"\n",
    "    return (\n",
    "        random.randint(0, 255),\n",
    "        random.randint(0, 255),\n",
    "        random.randint(0, 255)\n",
    "    )\n",
    "\n",
    "\n",
    "def to_decimal(rgb):\n",
    "    \"\"\"\n",
    "    Convertie un tuple rgb qui a pour valeur 0 à 255 vers des valeurs entre -0.5 et 0.5.\n",
    "    \"\"\"\n",
    "    r, g, b = rgb\n",
    "    return (\n",
    "        r / 255 - 0.5,\n",
    "        g / 255 - 0.5,\n",
    "        b / 255 - 0.5\n",
    "    )\n",
    "\n",
    "def to_hex(rgb):\n",
    "    \"\"\"\n",
    "    Convertie un tuple rgb qui a pour valeur -0.5 à 0.5 vers des valeurs entre 0 et 255.\n",
    "    \"\"\"\n",
    "    r, g, b = rgb\n",
    "    return (\n",
    "        int((r + 0.5) * 255),\n",
    "        int((g + 0.5) * 255),\n",
    "        int((b + 0.5) * 255)\n",
    "    )\n",
    "\n",
    "\n",
    "def closest_color(rgb):\n",
    "    \"\"\"\n",
    "    Détermine à partir d'une couleur en RGB son nom associé.\n",
    "    (ici on réalise exactement l'opération que le réseau de neurone sera amené à effectuer plus\n",
    "    tard).\n",
    "    \"\"\"\n",
    "    r, g, b = rgb\n",
    "    color_diffs = []\n",
    "    for color_name in COLORS:\n",
    "        cr, cg, cb = COLORS[color_name]\n",
    "        color_diff = math.sqrt((r - cr) ** 2 + (g - cg) ** 2 + (b - cb) ** 2)\n",
    "        color_diffs.append((color_diff, COLORS[color_name], color_name))\n",
    "    return min(color_diffs)[2]\n",
    "\n",
    "\n",
    "def create_dataset(n):\n",
    "    \"\"\"\n",
    "    Génère un dataset qui contient 4 colonnes: R, G, B, ColorName\n",
    "    \"\"\"\n",
    "    dataset_array = []\n",
    "    for _ in range(n):\n",
    "        rgb_color = random_rgb()\n",
    "        r, g, b = rgb_color\n",
    "        rc, gc, bc = to_decimal(rgb_color)\n",
    "        dataset_array.append([rc, gc, bc, closest_color((r, g, b))])\n",
    "    return pd.DataFrame(data=dataset_array, columns=[\"R\", \"G\", \"B\", Y_LABEL])"
   ]
  },
  {
   "cell_type": "markdown",
   "metadata": {
    "collapsed": false
   },
   "source": [
    "Modifiez l'appel à la cellule suivante pour gérer la taille de vos données."
   ]
  },
  {
   "cell_type": "code",
   "execution_count": null,
   "metadata": {
    "collapsed": false,
    "vscode": {
     "languageId": "python"
    }
   },
   "outputs": [],
   "source": [
    "ds = create_dataset(100_000)\n",
    "ds.head(5)"
   ]
  },
  {
   "cell_type": "markdown",
   "metadata": {
    "id": "mYk_7Re31b73"
   },
   "source": [
    "---\n",
    "## 3 - Préparation des données\n",
    "\n",
    "Maintenant que vos données sont prêtes, vous allez les préparer pour faciliter leur traitement, complétez le code ci-dessous :\n",
    "\n",
    " - a) Séparez les variables explicatives \"X\" et à expliquer \"Y\".\n",
    " - b) Transformer les classes de couleurs en valeurs numériques (souvenez-vous de la variable `ocean_proximity` du premier TP)\n",
    " - c) Séparez le dataset en lots d'entraînement (**train**) et de test (**test**) pour vous retrouver avec les variables :\n",
    "   - **X_train**\n",
    "   - **y_train**\n",
    "   - **X_test**\n",
    "   - **y_test**\n",
    " - d) Faites varier les pourcentages de découpages du datasets pour observer les changements.\n",
    "\n",
    "> 💡 Remarque : utilisez la librairie **[sklearn](https://scikit-learn.org/stable/getting_started.html)** pour la séparation des données"
   ]
  },
  {
   "cell_type": "code",
   "execution_count": 3,
   "metadata": {
    "collapsed": false,
    "vscode": {
     "languageId": "python"
    }
   },
   "outputs": [],
   "source": [
    "from sklearn.model_selection import train_test_split\n",
    "from sklearn import preprocessing\n",
    "\n",
    "# Obtention des X\n",
    "X = ds.loc[...] # complétez la méthode loc \n",
    "\n",
    "# Obtention d'y\n",
    "le = preprocessing.LabelEncoder()\n",
    "y = le.fit_transform(...)  # transformez les classes en valeurs numériques (\"aqua\" --> 0)\n",
    "y = ...  # reconvertissez y en DataFrame Pandas\n",
    "\n",
    "# Séparation des données d'entrainement et des données de test\n",
    "..."
   ]
  },
  {
   "cell_type": "markdown",
   "metadata": {
    "id": "m6jqE3VirZvw"
   },
   "source": [
    "---\n",
    "## 4 - Création du modèle\n",
    "\n",
    "### **TensorFlow** (pour les curieux 🔎)\n",
    "TensorFlow est une bibliothèque open source de Machine Learning, créée par Google, permettant de développer et d’exécuter des applications de Machine Learning et de Deep Learning. \n",
    "\n",
    "### **Keras** (pour les curieux 🔎)\n",
    "\n",
    "Keras est une API de réseau de neurones écrite en langage Python. Il s’agit d’une bibliothèque Open Source, qui est exécutée au-dessus du framework TensorFlow.\n",
    "\n",
    "Aujourd’hui, Keras est l’une des APIs de réseaux de neurones les plus utilisées pour le développement et le testing de réseaux de neurones. Elle permet de créer très facilement des \"layers\" pour les réseaux de neurones ou de mettre en place des architectures complexes.\n",
    "\n",
    "### **Du code, du code, on veut coder !!** 🤪\n",
    "\n",
    "En Machine Learning, un modèle est une structure qui a été entraînée pour reconnaître certains types de données. \n",
    "\n",
    "Vous allez créer votre propre modèle, avec le nombre d'entrées et le nombre de sorties requises, qui aura pour objectif de prédire les différentes couleurs de votre dataset.\n",
    "\n",
    "> 💡 **Remarque** : vous devrez choisir :\n",
    "> - le nombre de couches internes \n",
    "> - le nombre de neurones\n",
    "> - la fonction d'activation\n",
    "> - la fonction de perte\n",
    "\n",
    "a) Servez-vous des fonctions [Sequential()](https://keras.io/api/models/sequential/), [Input()](https://keras.io/api/layers/core_layers/input/), [Dense()](https://keras.io/api/layers/core_layers/dense/) de l'API Keras pour créer le modèle.\n",
    "\n",
    "b) Compilez votre modèle à l'aide de la fonction [compile()](https://keras.io/api/models/model_training_apis/) avec l'argument d'optimisation \"adam\"."
   ]
  },
  {
   "cell_type": "code",
   "execution_count": null,
   "metadata": {
    "id": "E3jvOIyErUJy",
    "vscode": {
     "languageId": "python"
    }
   },
   "outputs": [],
   "source": [
    "import tensorflow as tf\n",
    "\n",
    "INPUT_SIZE = 3\n",
    "OUTPUT_SIZE = len(COLORS)\n",
    "HIDDEN_LAYER_NUMBER = 2\n",
    "HIDDEN_LAYER_NODE_NUMBER = abs(OUTPUT_SIZE - INPUT_SIZE) // 2\n",
    "\n",
    "\n",
    "model = .....\n",
    "\n",
    "# Input layer\n",
    "model.add(....) \n",
    "\n",
    "# Hidden layers\n",
    "for _ in range(HIDDEN_LAYER_NUMBER):\n",
    "    model.add(....)\n",
    "\n",
    "# Output layer\n",
    "model.add(.....)\n",
    "\n",
    "# model compilation\n",
    "model.compile(.....)"
   ]
  },
  {
   "cell_type": "markdown",
   "metadata": {
    "id": "UqJaMEoJ4A5H"
   },
   "source": [
    "---\n",
    "## 5 - Entraînement du modèle\n",
    "\n",
    "Maintenant que les bases de notre modèle sont prêtes, on peut passer à la phase d'apprentissage. \n",
    "La fonction [fit()](https://www.tensorflow.org/api_docs/python/tf/keras/Model#fit) issue de `tf.keras.Model` permet d'entraîner simplement le modèle tout en offrant une customisation importante.\n",
    "\n",
    "a) Servez-vous de cette fonction pour entraîner le modèle avec les données de la partie 3.\n",
    "\n",
    "> 💸 **Tips** : les paramètres `epochs` et `batch_size` doivent être bien choisis, prenez le temps de bien comprendre leur utilité à travers la documentation de [fit()](https://www.tensorflow.org/api_docs/python/tf/keras/Model#fit)."
   ]
  },
  {
   "cell_type": "code",
   "execution_count": null,
   "metadata": {
    "id": "NT0uKDMz4mHt",
    "vscode": {
     "languageId": "python"
    }
   },
   "outputs": [],
   "source": [
    "model.fit(.....)"
   ]
  },
  {
   "cell_type": "markdown",
   "metadata": {
    "id": "8qsg2OMs4FFT"
   },
   "source": [
    "---\n",
    "## 6 - Évaluation\n",
    "\n",
    "a) Utilisez la fonction [evaluate()](https://www.tensorflow.org/api_docs/python/tf/keras/Model#evaluate) pour tester la partie test de votre dataset (`X_test` et `y_test`) dans l'objectif d'obtenir la **précision** et la **perte**  de votre modèle."
   ]
  },
  {
   "cell_type": "code",
   "execution_count": null,
   "metadata": {
    "id": "TSibR8OU4tDE",
    "vscode": {
     "languageId": "python"
    }
   },
   "outputs": [],
   "source": [
    "loss, accuracy = model.evaluate(....)\n",
    "print(f\"accuracy: {accuracy:.2f}\\nloss: {loss:.2f}\")"
   ]
  },
  {
   "cell_type": "markdown",
   "metadata": {
    "id": "0x0wx5pv0ylf"
   },
   "source": [
    "---\n",
    "## 7 - Prédictions\n",
    "\n",
    "a) Exécutez votre modèle sur une donnée aléatoire de votre dataset de test.  \n",
    "\n",
    "b) Vérifiez si la couleur prédite correspond bien à la couleur attendue.\n",
    "\n",
    "> 💡 **Remarque** : à propos de la fonction [predict()](https://www.tensorflow.org/api_docs/python/tf/keras/Model#predict)\n",
    "\n"
   ]
  },
  {
   "cell_type": "code",
   "execution_count": null,
   "metadata": {
    "id": "x24-GWNR019E",
    "vscode": {
     "languageId": "python"
    }
   },
   "outputs": [],
   "source": [
    "from numpy import argmax\n",
    "\n",
    "\n",
    "# Entrée\n",
    "row = ds.sample()  # récupère une ligne aléatoire du dataset\n",
    "rgb_ = to_hex((row.R, row.G, row.B))  # récupère la valeur rgb (0 à 255) pour être lisible humainement\n",
    "print(f\"[input]:\\n{rgb_} --- should be --> {row.Value.values[0]}\\n\")\n",
    "random_input = row.iloc[:, ds.columns != Y_LABEL]  # sélectionne les X de la ligne, exclue la colonne à prédire\n",
    "\n",
    "# Prédiction\n",
    "output_vec = model.predict(random_input, verbose=\"silent\")  # renvoie le vecteur de poids pour chaque classe de couleur\n",
    "\n",
    "# Sortie\n",
    "color_index = argmax(output_vec)  # récupération du plus grand poids pour être sélectionné comme notre prédiction\n",
    "color = le.classes_[color_index]  # conversion de l'index sélectionné en sa chaîne correspondante\n",
    "print(f\"[output]\\n{color}\\n\")\n"
   ]
  },
  {
   "cell_type": "markdown",
   "metadata": {},
   "source": [
    "---\n",
    "## 8 - FIN\n",
    "### Bien joué moussaillon ! 🏴‍☠️🏴‍☠️🏴‍☠️🏴‍☠️🏴‍☠️🏴‍☠️\n",
    "\n",
    "🎉🎉🎉🎉🎉🎉🎉🎉🎉🎉"
   ]
  }
 ],
 "metadata": {
  "colab": {
   "collapsed_sections": [],
   "provenance": [],
   "toc_visible": true
  },
  "kernelspec": {
   "display_name": "Python 3 (ipykernel)",
   "language": "python",
   "name": "python3"
  }
 },
 "nbformat": 4,
 "nbformat_minor": 0
}
